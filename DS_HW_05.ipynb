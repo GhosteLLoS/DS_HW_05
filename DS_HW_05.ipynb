{
 "cells": [
  {
   "cell_type": "code",
   "execution_count": 1,
   "id": "430bf1db-7774-4bb5-bff6-7799f38c86a3",
   "metadata": {},
   "outputs": [],
   "source": [
    "import numpy as np\n",
    "import pandas as pd\n",
    "import pickle\n",
    "\n",
    "from os import listdir\n",
    "from os.path import join\n",
    "from sklearn import model_selection, svm\n",
    "from sklearn.metrics import mean_absolute_error, mean_squared_error, accuracy_score, classification_report\n",
    "from sklearn.ensemble import RandomForestClassifier"
   ]
  },
  {
   "cell_type": "code",
   "execution_count": 3,
   "id": "46ae9022-f554-4afe-8003-1751a62ec9ba",
   "metadata": {},
   "outputs": [
    {
     "name": "stdout",
     "output_type": "stream",
     "text": [
      "idle: 1039\n",
      "running: 3408\n",
      "stairs: 165\n",
      "walking: 1850\n"
     ]
    },
    {
     "data": {
      "text/html": [
       "<div>\n",
       "<style scoped>\n",
       "    .dataframe tbody tr th:only-of-type {\n",
       "        vertical-align: middle;\n",
       "    }\n",
       "\n",
       "    .dataframe tbody tr th {\n",
       "        vertical-align: top;\n",
       "    }\n",
       "\n",
       "    .dataframe thead th {\n",
       "        text-align: right;\n",
       "    }\n",
       "</style>\n",
       "<table border=\"1\" class=\"dataframe\">\n",
       "  <thead>\n",
       "    <tr style=\"text-align: right;\">\n",
       "      <th></th>\n",
       "      <th>accelerometer_X</th>\n",
       "      <th>accelerometer_Y</th>\n",
       "      <th>accelerometer_Z</th>\n",
       "    </tr>\n",
       "  </thead>\n",
       "  <tbody>\n",
       "    <tr>\n",
       "      <th>0</th>\n",
       "      <td>-2.269703</td>\n",
       "      <td>-2.782062</td>\n",
       "      <td>2.398990</td>\n",
       "    </tr>\n",
       "    <tr>\n",
       "      <th>1</th>\n",
       "      <td>1.479617</td>\n",
       "      <td>-9.251195</td>\n",
       "      <td>-0.857124</td>\n",
       "    </tr>\n",
       "    <tr>\n",
       "      <th>2</th>\n",
       "      <td>5.152323</td>\n",
       "      <td>-11.702858</td>\n",
       "      <td>-2.279280</td>\n",
       "    </tr>\n",
       "    <tr>\n",
       "      <th>3</th>\n",
       "      <td>1.637634</td>\n",
       "      <td>-22.720974</td>\n",
       "      <td>-10.491392</td>\n",
       "    </tr>\n",
       "    <tr>\n",
       "      <th>4</th>\n",
       "      <td>-2.346318</td>\n",
       "      <td>-3.270479</td>\n",
       "      <td>1.063026</td>\n",
       "    </tr>\n",
       "  </tbody>\n",
       "</table>\n",
       "</div>"
      ],
      "text/plain": [
       "   accelerometer_X  accelerometer_Y  accelerometer_Z\n",
       "0        -2.269703        -2.782062         2.398990\n",
       "1         1.479617        -9.251195        -0.857124\n",
       "2         5.152323       -11.702858        -2.279280\n",
       "3         1.637634       -22.720974       -10.491392\n",
       "4        -2.346318        -3.270479         1.063026"
      ]
     },
     "execution_count": 3,
     "metadata": {},
     "output_type": "execute_result"
    }
   ],
   "source": [
    "data_directory = \"C:\\\\Users\\\\Aliaksey\\\\OneDrive\\\\Desktop\\\\Projects GOIT\\\\Data Science\\\\data\"\n",
    "activity_list = listdir(data_directory)\n",
    "\n",
    "for act in activity_list:\n",
    "    path = join(data_directory, act)\n",
    "    frames = listdir(path)\n",
    "    print(f\"{act}: {len(frames)}\")\n",
    "\n",
    "frms = listdir(join(data_directory, \"stairs\"))\n",
    "frame = pd.read_csv(join(join(data_directory, \"stairs\"), frms[2]))\n",
    "frame.head(5)"
   ]
  },
  {
   "cell_type": "code",
   "execution_count": 4,
   "id": "aafc907e-1e76-4213-be90-8802fbf1bcff",
   "metadata": {},
   "outputs": [],
   "source": [
    "def get_stat_features(frame):\n",
    "    features = np.array([])\n",
    "    features = np.concatenate((features, frame.skew(axis=0).values), axis=0)\n",
    "    features = np.concatenate((features, frame.kurt(axis=0).values), axis=0)\n",
    "    features = np.concatenate((features, frame.max(axis=0).values), axis=0)\n",
    "    features = np.concatenate((features, frame.min(axis=0).values), axis=0)\n",
    "    features = np.concatenate((features, frame.mean(axis=0).values), axis=0)\n",
    "    features = np.concatenate((features, frame.std(axis=0).values), axis=0)\n",
    "    features = np.concatenate((features, frame.var(axis=0).values), axis=0)\n",
    "    features = np.concatenate((features, frame.median(axis=0).values), axis=0)\n",
    "    features = np.concatenate((features, frame.idxmax(axis=0).values), axis=0)\n",
    "    features = np.concatenate((features, frame.idxmin(axis=0).values), axis=0)\n",
    "    correlations = frame.corr()\n",
    "    corr = np.array([correlations['accelerometer_X']['accelerometer_Y'], correlations['accelerometer_X']['accelerometer_Z'], correlations['accelerometer_Y']['accelerometer_Z']])\n",
    "    features = np.concatenate((features, corr), axis=0)\n",
    "\n",
    "    frame['mean_X'] = frame.mean(axis=0)['accelerometer_X']\n",
    "    frame['mean_Y'] = frame.mean(axis=0)['accelerometer_Y']\n",
    "    frame['mean_Z'] = frame.mean(axis=0)['accelerometer_Z']\n",
    "    \n",
    "    mae_X = mean_absolute_error(frame['accelerometer_X'], frame['mean_X'])\n",
    "    mae_Y = mean_absolute_error(frame['accelerometer_Y'], frame['mean_Y'])\n",
    "    mae_Z = mean_absolute_error(frame['accelerometer_Z'], frame['mean_Z'])\n",
    "    \n",
    "    rmse_x = np.sqrt(mean_squared_error(frame['accelerometer_X'], frame['mean_X']))\n",
    "    rmse_y = np.sqrt(mean_squared_error(frame['accelerometer_Y'], frame['mean_Y']))\n",
    "    rmse_z = np.sqrt(mean_squared_error(frame['accelerometer_Z'], frame['mean_Z']))\n",
    "\n",
    "    metrics = np.array([mae_X, mae_Y, mae_Z, rmse_x, rmse_y, rmse_z])\n",
    "    features = np.concatenate((features, metrics), axis=0)\n",
    "\n",
    "    return features"
   ]
  },
  {
   "cell_type": "code",
   "execution_count": 5,
   "id": "b5427889-157e-42f9-8968-5f4ed3a27b0f",
   "metadata": {},
   "outputs": [
    {
     "data": {
      "text/plain": [
       "39"
      ]
     },
     "execution_count": 5,
     "metadata": {},
     "output_type": "execute_result"
    }
   ],
   "source": [
    "len(get_stat_features(frame))"
   ]
  },
  {
   "cell_type": "code",
   "execution_count": 6,
   "id": "4389902a-ece1-491c-8126-8e2d559868b3",
   "metadata": {},
   "outputs": [
    {
     "data": {
      "text/html": [
       "<div>\n",
       "<style scoped>\n",
       "    .dataframe tbody tr th:only-of-type {\n",
       "        vertical-align: middle;\n",
       "    }\n",
       "\n",
       "    .dataframe tbody tr th {\n",
       "        vertical-align: top;\n",
       "    }\n",
       "\n",
       "    .dataframe thead th {\n",
       "        text-align: right;\n",
       "    }\n",
       "</style>\n",
       "<table border=\"1\" class=\"dataframe\">\n",
       "  <thead>\n",
       "    <tr style=\"text-align: right;\">\n",
       "      <th></th>\n",
       "      <th>accelerometer_X</th>\n",
       "      <th>accelerometer_Y</th>\n",
       "      <th>accelerometer_Z</th>\n",
       "      <th>mean_X</th>\n",
       "      <th>mean_Y</th>\n",
       "      <th>mean_Z</th>\n",
       "    </tr>\n",
       "  </thead>\n",
       "  <tbody>\n",
       "    <tr>\n",
       "      <th>0</th>\n",
       "      <td>-2.269703</td>\n",
       "      <td>-2.782062</td>\n",
       "      <td>2.398990</td>\n",
       "      <td>0.864945</td>\n",
       "      <td>-9.36899</td>\n",
       "      <td>-3.801513</td>\n",
       "    </tr>\n",
       "    <tr>\n",
       "      <th>1</th>\n",
       "      <td>1.479617</td>\n",
       "      <td>-9.251195</td>\n",
       "      <td>-0.857124</td>\n",
       "      <td>0.864945</td>\n",
       "      <td>-9.36899</td>\n",
       "      <td>-3.801513</td>\n",
       "    </tr>\n",
       "    <tr>\n",
       "      <th>2</th>\n",
       "      <td>5.152323</td>\n",
       "      <td>-11.702858</td>\n",
       "      <td>-2.279280</td>\n",
       "      <td>0.864945</td>\n",
       "      <td>-9.36899</td>\n",
       "      <td>-3.801513</td>\n",
       "    </tr>\n",
       "  </tbody>\n",
       "</table>\n",
       "</div>"
      ],
      "text/plain": [
       "   accelerometer_X  accelerometer_Y  accelerometer_Z    mean_X   mean_Y  \\\n",
       "0        -2.269703        -2.782062         2.398990  0.864945 -9.36899   \n",
       "1         1.479617        -9.251195        -0.857124  0.864945 -9.36899   \n",
       "2         5.152323       -11.702858        -2.279280  0.864945 -9.36899   \n",
       "\n",
       "     mean_Z  \n",
       "0 -3.801513  \n",
       "1 -3.801513  \n",
       "2 -3.801513  "
      ]
     },
     "execution_count": 6,
     "metadata": {},
     "output_type": "execute_result"
    }
   ],
   "source": [
    "new_frame = frame\n",
    "new_frame['mean_X'] = frame.mean(axis=0)['accelerometer_X']\n",
    "new_frame['mean_Y'] = frame.mean(axis=0)['accelerometer_Y']\n",
    "new_frame['mean_Z'] = frame.mean(axis=0)['accelerometer_Z']\n",
    "\n",
    "new_frame.head(3)"
   ]
  },
  {
   "cell_type": "code",
   "execution_count": 7,
   "id": "1746065a-168b-41b3-af04-bf425c59734b",
   "metadata": {},
   "outputs": [
    {
     "data": {
      "text/plain": [
       "2.1644329377777782"
      ]
     },
     "execution_count": 7,
     "metadata": {},
     "output_type": "execute_result"
    }
   ],
   "source": [
    "mean_absolute_error(frame['accelerometer_X'], new_frame['mean_X'])"
   ]
  },
  {
   "cell_type": "code",
   "execution_count": 8,
   "id": "5084a979-8c25-46e6-98a4-00e547793d6f",
   "metadata": {},
   "outputs": [
    {
     "data": {
      "text/plain": [
       "2.7998626036369325"
      ]
     },
     "execution_count": 8,
     "metadata": {},
     "output_type": "execute_result"
    }
   ],
   "source": [
    "np.sqrt(mean_squared_error(frame['accelerometer_X'], new_frame['mean_X']))"
   ]
  },
  {
   "cell_type": "code",
   "execution_count": 10,
   "id": "0ceaa566-028d-4109-a97b-988fe0240dbb",
   "metadata": {},
   "outputs": [],
   "source": [
    "def class_data_stat_prepare(class_name, class_number):\n",
    "    path = join(data_directory, class_name)\n",
    "    x = []\n",
    "    for item in listdir(path):\n",
    "        frame = pd.read_csv(join(path, item))\n",
    "        features = get_stat_features(frame)\n",
    "        x.append(features)\n",
    "\n",
    "    y = [class_number]*len(x)\n",
    "\n",
    "    x = np.array(x)\n",
    "    y = np.array(y)\n",
    "\n",
    "    return x, y"
   ]
  },
  {
   "cell_type": "code",
   "execution_count": 11,
   "id": "0132919f-3e51-4e7a-88e5-bb9376b521c8",
   "metadata": {},
   "outputs": [],
   "source": [
    "def create_dataset(class_prepare):\n",
    "    X_idle, y_idle = class_prepare('idle', 0)\n",
    "    X_walking, y_walking = class_prepare('walking', 1)\n",
    "    X_stairs, y_stairs = class_prepare('stairs', 2)\n",
    "    X_running, y_running = class_prepare('running', 3)\n",
    "\n",
    "    X = np.concatenate((X_idle, X_walking), axis=0)\n",
    "    X = np.concatenate((X, X_stairs), axis=0)\n",
    "    X = np.concatenate((X, X_running), axis=0)\n",
    "\n",
    "    Y = np.concatenate((y_idle, y_walking), axis=0)\n",
    "    Y = np.concatenate((Y, y_stairs), axis=0)\n",
    "    Y = np.concatenate((Y, y_running), axis=0)\n",
    "\n",
    "    return X, Y"
   ]
  },
  {
   "cell_type": "code",
   "execution_count": 12,
   "id": "d26797f3-6c55-41c2-9e61-9d703374eae6",
   "metadata": {},
   "outputs": [],
   "source": [
    "X, y = create_dataset(class_data_stat_prepare)"
   ]
  },
  {
   "cell_type": "code",
   "execution_count": 13,
   "id": "a071e574-198d-4ef0-b190-0fe68502340f",
   "metadata": {},
   "outputs": [],
   "source": [
    "def save_data(prefix, X, y):\n",
    "    with open(f'{prefix}_X.pickle', 'wb') as f:\n",
    "        pickle.dump(X, f)\n",
    "    with open(f'{prefix}_y.pickle', 'wb') as f:\n",
    "        pickle.dump(y, f)"
   ]
  },
  {
   "cell_type": "code",
   "execution_count": 14,
   "id": "bb186401-39e0-483d-946a-34629e30a255",
   "metadata": {},
   "outputs": [],
   "source": [
    "save_data('data', X, y)"
   ]
  },
  {
   "cell_type": "code",
   "execution_count": 15,
   "id": "6ebd9b35-39ae-4556-91af-0ac5f878e250",
   "metadata": {},
   "outputs": [],
   "source": [
    "def load_data(prefix):\n",
    "    with open(f'{prefix}_X.pickle', 'rb') as f:\n",
    "        X = pickle.load(f)\n",
    "    with open(f'{prefix}_y.pickle', 'rb') as f:\n",
    "        y = pickle.load(f)\n",
    "    return X, y"
   ]
  },
  {
   "cell_type": "code",
   "execution_count": 18,
   "id": "a00f9d20-2969-490d-a9cf-27df4382b526",
   "metadata": {},
   "outputs": [],
   "source": [
    "X, y = load_data('data')"
   ]
  },
  {
   "cell_type": "code",
   "execution_count": 19,
   "id": "79ecdfba-90bc-4df5-9005-7355ae5d915b",
   "metadata": {},
   "outputs": [],
   "source": [
    "X_train, X_test, y_train, y_test = model_selection.train_test_split(X, y, train_size=0.3)"
   ]
  },
  {
   "cell_type": "code",
   "execution_count": 20,
   "id": "02e5f72a-9d1f-49d9-9bf3-e9aacd2f64b3",
   "metadata": {},
   "outputs": [],
   "source": [
    "cls_ovo = svm.SVC(decision_function_shape='ovo', kernel='rbf', gamma=0.005, probability=True).fit(X_train, y_train)\n",
    "cls_ovr = svm.SVC(decision_function_shape='ovr', kernel='rbf', gamma=0.005, probability=True).fit(X_train, y_train)\n",
    "\n",
    "cls_forest = RandomForestClassifier().fit(X_train, y_train)"
   ]
  },
  {
   "cell_type": "code",
   "execution_count": 21,
   "id": "f802e6c6-166c-48b7-962b-07bf324f4d3c",
   "metadata": {},
   "outputs": [],
   "source": [
    "svm_ovo_pred = cls_ovo.predict(X_test)\n",
    "svm_ovr_pred = cls_ovr.predict(X_test)\n",
    "\n",
    "forest_pred = cls_forest.predict(X_test)"
   ]
  },
  {
   "cell_type": "code",
   "execution_count": 22,
   "id": "80d8b942-c13f-49e4-828a-16e00ae2af58",
   "metadata": {},
   "outputs": [
    {
     "name": "stdout",
     "output_type": "stream",
     "text": [
      "Точність SVM (один проти одного):  0.8908045977011494\n",
      "Точність SVM (один проти всіх):  0.8908045977011494\n",
      "Точність випадкового ліса:  0.996684350132626\n"
     ]
    }
   ],
   "source": [
    "svm_ovo_accuracy = accuracy_score(y_test, svm_ovo_pred)\n",
    "svm_ovr_accuracy = accuracy_score(y_test, svm_ovr_pred)\n",
    "\n",
    "forest_ovr_accuracy = accuracy_score(y_test, forest_pred)\n",
    "\n",
    "print(\"Точність SVM (один проти одного): \", svm_ovo_accuracy)\n",
    "print(\"Точність SVM (один проти всіх): \", svm_ovr_accuracy)\n",
    "print(\"Точність випадкового ліса: \", forest_ovr_accuracy)"
   ]
  },
  {
   "cell_type": "code",
   "execution_count": 23,
   "id": "c894da4b-53d9-457c-a8a5-a58c8cf8c102",
   "metadata": {},
   "outputs": [
    {
     "name": "stdout",
     "output_type": "stream",
     "text": [
      "Звіт класифікації для SVM (один проти одного):\n",
      "               precision    recall  f1-score   support\n",
      "\n",
      "           0       1.00      0.87      0.93       756\n",
      "           1       0.99      0.74      0.85      1307\n",
      "           2       1.00      0.44      0.61       104\n",
      "           3       0.83      1.00      0.91      2357\n",
      "\n",
      "    accuracy                           0.89      4524\n",
      "   macro avg       0.95      0.76      0.82      4524\n",
      "weighted avg       0.91      0.89      0.89      4524\n",
      "\n"
     ]
    }
   ],
   "source": [
    "svm_ovo_report = classification_report(y_test, svm_ovo_pred)\n",
    "print(\"Звіт класифікації для SVM (один проти одного):\\n\", svm_ovo_report)"
   ]
  },
  {
   "cell_type": "code",
   "execution_count": 24,
   "id": "280b9a70-c8ef-476a-8e2e-153f51052446",
   "metadata": {},
   "outputs": [
    {
     "name": "stdout",
     "output_type": "stream",
     "text": [
      "Звіт класифікації для SVM (один проти всіх):\n",
      "               precision    recall  f1-score   support\n",
      "\n",
      "           0       1.00      0.87      0.93       756\n",
      "           1       0.99      0.74      0.85      1307\n",
      "           2       1.00      0.44      0.61       104\n",
      "           3       0.83      1.00      0.91      2357\n",
      "\n",
      "    accuracy                           0.89      4524\n",
      "   macro avg       0.95      0.76      0.82      4524\n",
      "weighted avg       0.91      0.89      0.89      4524\n",
      "\n"
     ]
    }
   ],
   "source": [
    "svm_ovr_report = classification_report(y_test, svm_ovr_pred)\n",
    "print(\"Звіт класифікації для SVM (один проти всіх):\\n\", svm_ovr_report)"
   ]
  },
  {
   "cell_type": "code",
   "execution_count": 25,
   "id": "2d25b866-f83e-40ef-ab04-eb6b3110498f",
   "metadata": {},
   "outputs": [
    {
     "name": "stdout",
     "output_type": "stream",
     "text": [
      "Звіт класифікації для випадкового ліса:\n",
      "               precision    recall  f1-score   support\n",
      "\n",
      "           0       1.00      1.00      1.00       756\n",
      "           1       0.99      1.00      0.99      1307\n",
      "           2       0.98      0.88      0.92       104\n",
      "           3       1.00      1.00      1.00      2357\n",
      "\n",
      "    accuracy                           1.00      4524\n",
      "   macro avg       0.99      0.97      0.98      4524\n",
      "weighted avg       1.00      1.00      1.00      4524\n",
      "\n"
     ]
    }
   ],
   "source": [
    "forest_report = classification_report(y_test, forest_pred)\n",
    "print(\"Звіт класифікації для випадкового ліса:\\n\", forest_report)"
   ]
  },
  {
   "cell_type": "code",
   "execution_count": null,
   "id": "1859ded9-8ed4-4a0a-a96d-304675c8d37b",
   "metadata": {},
   "outputs": [],
   "source": []
  }
 ],
 "metadata": {
  "kernelspec": {
   "display_name": "Python 3 (ipykernel)",
   "language": "python",
   "name": "python3"
  },
  "language_info": {
   "codemirror_mode": {
    "name": "ipython",
    "version": 3
   },
   "file_extension": ".py",
   "mimetype": "text/x-python",
   "name": "python",
   "nbconvert_exporter": "python",
   "pygments_lexer": "ipython3",
   "version": "3.11.2"
  }
 },
 "nbformat": 4,
 "nbformat_minor": 5
}
